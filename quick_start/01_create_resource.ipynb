{
 "cells": [
  {
   "attachments": {},
   "cell_type": "markdown",
   "metadata": {},
   "source": [
    "# Create an Azure OpenAI Service and Model Deployment\n",
    "\n",
    "The following notebook will show you how to connect to the Azure Service through the use of the Azure CLI. The command line instructions for Azure allow you to pass in arguments to connect to Azure, created instances of service and to update or delete service.\n",
    "\n",
    "* [Authenticate to Azure](#authenticate-to-azure) \n",
    "* [Create an Azure OpenAI Service](#create-azure-openai-service) \n",
    "* [Deploy an Azure OpenAI Model](#deploy-azure-openai-model)\n"
   ]
  },
  {
   "cell_type": "markdown",
   "metadata": {},
   "source": [
    "\n",
    "\n",
    "## Authenticate to Azure\n",
    "\n",
    "You can use the following to authenticate through Azure CLI\n",
    "```\n",
    "az login\n",
    "```\n",
    "if the above line does not work then use the following\n",
    "-you can pass in a parameter to have your device approved to connect and send commands\n",
    "```\n",
    "az login --use-device-code"
   ]
  },
  {
   "cell_type": "code",
   "execution_count": null,
   "metadata": {},
   "outputs": [],
   "source": [
    "# Login to Azure\n",
    "!az login"
   ]
  },
  {
   "attachments": {},
   "cell_type": "markdown",
   "metadata": {},
   "source": [
    "### You only need to use one or the other\n",
    "\n",
    "Use this only when the above Azure CLI command fails or hangs"
   ]
  },
  {
   "cell_type": "code",
   "execution_count": null,
   "metadata": {},
   "outputs": [],
   "source": [
    "!az login --use-device-code"
   ]
  },
  {
   "attachments": {},
   "cell_type": "markdown",
   "metadata": {},
   "source": [
    "#### Set the subscription\n",
    "\n",
    "Every Azure Service is associated with an Auzure Subscription. To use Azure OpenAI one must connect to the Azure OpenAI service. To connect, you have to pass in the following items\n",
    "1. Subscrition Name\n",
    "2. The Resource Group name or (create a resource group if not already created)\n",
    "3. The Azure OpenAI Service name"
   ]
  },
  {
   "cell_type": "code",
   "execution_count": null,
   "metadata": {},
   "outputs": [],
   "source": [
    "import os\n",
    "\n",
    "openai_rg_name =  os.getenv(\"resource_group\")\n",
    "openai_svc_name = os.getenv(\"azure_openai_instance\")\n",
    "subscription = os.getenv(\"subscription_id\")"
   ]
  },
  {
   "cell_type": "code",
   "execution_count": null,
   "metadata": {},
   "outputs": [],
   "source": [
    "# Use Non-prod subscription\n",
    "!az account set --subscription $subscription\n"
   ]
  },
  {
   "attachments": {},
   "cell_type": "markdown",
   "metadata": {},
   "source": [
    "### Create Resource Group Name if one doesn't have a group already create"
   ]
  },
  {
   "cell_type": "code",
   "execution_count": null,
   "metadata": {},
   "outputs": [],
   "source": [
    "!az group create --name $openai_rg_name --location southcentralus"
   ]
  },
  {
   "attachments": {},
   "cell_type": "markdown",
   "metadata": {},
   "source": [
    "# Create Azure OpenAI service\n",
    "Update -l parameter value for a new endpoint uri"
   ]
  },
  {
   "cell_type": "code",
   "execution_count": null,
   "metadata": {},
   "outputs": [],
   "source": [
    "# Wait until the resource group is created\n",
    "# Create OpenAI service\n",
    "!az cognitiveservices account create -n $openai_svc_name \\\n",
    "    -g $openai_rg_name \\\n",
    "    -l southcentralus \\\n",
    "    --kind OpenAI \\\n",
    "    --sku s0 \\\n",
    "    --subscription <[put subscription id here]>"
   ]
  },
  {
   "attachments": {},
   "cell_type": "markdown",
   "metadata": {},
   "source": [
    "#### Show the Cognitive Service just created"
   ]
  },
  {
   "cell_type": "code",
   "execution_count": null,
   "metadata": {},
   "outputs": [],
   "source": [
    "!az cognitiveservices account show -n $openai_svc_name -g $openai_rg_name "
   ]
  },
  {
   "attachments": {},
   "cell_type": "markdown",
   "metadata": {},
   "source": [
    "##### Show the keys associated with the Azure OpenAI Service"
   ]
  },
  {
   "cell_type": "code",
   "execution_count": null,
   "metadata": {},
   "outputs": [],
   "source": [
    "!az cognitiveservices account keys list -n $openai_svc_name -g $openai_rg_name "
   ]
  },
  {
   "attachments": {},
   "cell_type": "markdown",
   "metadata": {},
   "source": [
    "## Create Display Name and model version\n",
    "\n",
    "!NOTE:: You can only deploy a one version of the same model"
   ]
  },
  {
   "cell_type": "code",
   "execution_count": null,
   "metadata": {},
   "outputs": [],
   "source": [
    "search_doc_deployment_name = 'curie-search-doc'\n",
    "search_doc_model = 'text-curie-001'\n",
    "search_query_deployment_name = 'davinci-search-query'\n",
    "search_query_model = 'text-davinci-003'\n",
    "text_deployment_name = 'text-davinci-002'\n",
    "text_model = 'text-davinci-002'\n",
    "text_similarity=\"curie_text_similarity\"\n",
    "text_similarity_model=\"text-similarity-curie-001\"\n"
   ]
  },
  {
   "attachments": {},
   "cell_type": "markdown",
   "metadata": {},
   "source": [
    "## Deploy Azure OpenAI Model\n",
    "### Text Curie 001\n",
    "\n",
    "The following Azure Command Line will deploy the Text Curie 001 Model"
   ]
  },
  {
   "cell_type": "code",
   "execution_count": null,
   "metadata": {},
   "outputs": [],
   "source": [
    "!az cognitiveservices account deployment create \\\n",
    " -g $openai_rg_name \\\n",
    " -n $openai_svc_name \\\n",
    " --deployment-name $search_doc_deployment_name \\\n",
    " --model-name $search_doc_model \\\n",
    " --model-version \"1\"  \\\n",
    " --model-format OpenAI \\\n",
    " --scale-settings-scale-type \"Standard\""
   ]
  },
  {
   "cell_type": "code",
   "execution_count": null,
   "metadata": {},
   "outputs": [],
   "source": [
    "!az cognitiveservices account deployment list -g $openai_rg_name -n $openai_svc_name "
   ]
  },
  {
   "attachments": {},
   "cell_type": "markdown",
   "metadata": {},
   "source": [
    "### Text Davinci 003\n",
    "\n",
    "The following Azure Command Line will deploy the Text Davinci 003 Model"
   ]
  },
  {
   "cell_type": "code",
   "execution_count": null,
   "metadata": {},
   "outputs": [],
   "source": [
    "!az cognitiveservices account deployment create \\\n",
    "    -g $openai_rg_name \\\n",
    "    -n $openai_svc_name \\\n",
    "    --deployment-name $search_query_deployment_name \\\n",
    "    --model-name $search_query_model \\\n",
    "    --model-version \"1\"\\\n",
    "    --model-format OpenAI \\\n",
    "    --scale-settings-scale-type \"Standard\"\n"
   ]
  },
  {
   "attachments": {},
   "cell_type": "markdown",
   "metadata": {},
   "source": [
    "### Text Davinci 002\n",
    "\n",
    "The follow Azure Command Line will deploy the Text Davinci 002 Model"
   ]
  },
  {
   "cell_type": "code",
   "execution_count": null,
   "metadata": {},
   "outputs": [],
   "source": [
    "!az cognitiveservices account deployment create \\\n",
    "    -g $openai_rg_name \\\n",
    "    -n $openai_svc_name \\\n",
    "    --deployment-name $text_deployment_name \\\n",
    "    --model-name $text_model \\\n",
    "    --model-version \"1\"  \\\n",
    "    --model-format OpenAI \\\n",
    "    --scale-settings-scale-type \"Standard\""
   ]
  },
  {
   "attachments": {},
   "cell_type": "markdown",
   "metadata": {},
   "source": [
    "#### Text Similarity using Curie 001\n",
    "\n",
    "Deploy a Text Similarity model using Text Similarity Curie 001"
   ]
  },
  {
   "cell_type": "code",
   "execution_count": null,
   "metadata": {},
   "outputs": [],
   "source": [
    "!az cognitiveservices account deployment create \\\n",
    "    -g $openai_rg_name \\\n",
    "    -n $openai_svc_name \\\n",
    "    --deployment-name $text_similarity \\\n",
    "    --model-name $text_similarity_model \\\n",
    "    --model-version \"1\"  \\\n",
    "    --model-format OpenAI \\\n",
    "    --scale-settings-scale-type \"Standard\""
   ]
  },
  {
   "attachments": {},
   "cell_type": "markdown",
   "metadata": {},
   "source": [
    "##### Display information about the currently deploy Azure OpenAI Models"
   ]
  },
  {
   "cell_type": "code",
   "execution_count": null,
   "metadata": {},
   "outputs": [],
   "source": [
    "from utils import list_oai_models\n",
    "import pandas as pd\n",
    "\n",
    "df = list_oai_models(os.getenv(\"subscription_id\"),openai_rg_name, openai_svc_name)\n",
    "df.head()\n"
   ]
  },
  {
   "cell_type": "code",
   "execution_count": null,
   "metadata": {},
   "outputs": [],
   "source": []
  }
 ],
 "metadata": {
  "kernelspec": {
   "display_name": "azureml_py310_sdkv2",
   "language": "python",
   "name": "python3"
  },
  "language_info": {
   "codemirror_mode": {
    "name": "ipython",
    "version": 3
   },
   "file_extension": ".py",
   "mimetype": "text/x-python",
   "name": "python",
   "nbconvert_exporter": "python",
   "pygments_lexer": "ipython3",
   "version": "3.10.10"
  },
  "orig_nbformat": 4,
  "vscode": {
   "interpreter": {
    "hash": "2139c70ac98f3202d028164a545621647e07f47fd6f5d8ac55cf952bf7c15ed1"
   }
  }
 },
 "nbformat": 4,
 "nbformat_minor": 2
}
