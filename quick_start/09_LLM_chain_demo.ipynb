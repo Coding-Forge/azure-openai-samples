{
 "cells": [
  {
   "attachments": {},
   "cell_type": "markdown",
   "metadata": {},
   "source": [
    "# Demo: OpenAI Large Language Model Chain of Thoughts Demo\n",
    "\n",
    "In this demo, we show how to use GPT3 model to analyze natural query, use knowledge base to search for more information and answer questions."
   ]
  },
  {
   "cell_type": "code",
   "execution_count": 1,
   "metadata": {},
   "outputs": [],
   "source": [
    "import openai\n",
    "import re\n",
    "import requests\n",
    "import sys\n",
    "import os\n",
    "import pandas as pd\n",
    "import numpy as np\n",
    "from utils import list_oai_models, popup_choice\n",
    "\n",
    "from dotenv import load_dotenv\n",
    "load_dotenv()\n",
    "\n",
    "openai.api_type = \"azure\"\n",
    "openai.api_version = \"2022-12-01\"\n",
    "openai.api_key = os.getenv('OPENAI_API_KEY')\n",
    "openai.api_base = os.getenv('OPENAI_API_BASE')"
   ]
  },
  {
   "attachments": {},
   "cell_type": "markdown",
   "metadata": {},
   "source": [
    "### Start with a natural question"
   ]
  },
  {
   "cell_type": "code",
   "execution_count": 2,
   "metadata": {},
   "outputs": [],
   "source": [
    "input = \"According to CNN news, which candidate is likely to win in 2020 election? Explain the reasons.\""
   ]
  },
  {
   "attachments": {},
   "cell_type": "markdown",
   "metadata": {},
   "source": [
    "### Step 1: GPT3: What do I need to to answer this question?"
   ]
  },
  {
   "cell_type": "code",
   "execution_count": 3,
   "metadata": {},
   "outputs": [],
   "source": [
    "prompt=f'''Answer the following questions as best you can. You have access to the following tools:\n",
    "\n",
    "Research: \n",
    "\n",
    "Use the following format:\n",
    "\n",
    "Question: the input question you must answer\n",
    "Thought: you should always think about what to do\n",
    "Action: the action to take, should be one of [Research]\n",
    "Action Input: the input to the action\n",
    "\n",
    "Begin!\n",
    "\n",
    "Question: {input}\n",
    "Thought:'''"
   ]
  },
  {
   "cell_type": "code",
   "execution_count": 4,
   "metadata": {},
   "outputs": [
    {
     "name": "stderr",
     "output_type": "stream",
     "text": [
      "Incomplete environment configuration. These variables are set: AZURE_PASSWORD, AZURE_USERNAME\n"
     ]
    },
    {
     "name": "stdout",
     "output_type": "stream",
     "text": [
      "event=Ok\n",
      " I need to research the current polls and news to determine the likely winner.\n",
      "Action: Research\n",
      "Action Input: Current polls and news related to the 2020 election.\n"
     ]
    }
   ],
   "source": [
    "response = openai.Completion.create(\n",
    "    prompt=prompt,\n",
    "    temperature=0,\n",
    "    max_tokens=250,\n",
    "    top_p=1,\n",
    "    frequency_penalty=0,\n",
    "    presence_penalty=0,\n",
    "    engine=popup_choice()\n",
    ")[\"choices\"][0][\"text\"]\n",
    "print(response)"
   ]
  },
  {
   "attachments": {},
   "cell_type": "markdown",
   "metadata": {},
   "source": [
    "### Step 2: Search for more information in given knowledge base"
   ]
  },
  {
   "cell_type": "code",
   "execution_count": 5,
   "metadata": {},
   "outputs": [
    {
     "ename": "ValueError",
     "evalue": "Parameter 'endpoint' must not be None.",
     "output_type": "error",
     "traceback": [
      "\u001b[0;31m---------------------------------------------------------------------------\u001b[0m",
      "\u001b[0;31mValueError\u001b[0m                                Traceback (most recent call last)",
      "Cell \u001b[0;32mIn[5], line 10\u001b[0m\n\u001b[1;32m      8\u001b[0m admin_key \u001b[39m=\u001b[39m os\u001b[39m.\u001b[39mgetenv(\u001b[39m'\u001b[39m\u001b[39mazure_search_key\u001b[39m\u001b[39m'\u001b[39m)\n\u001b[1;32m      9\u001b[0m \u001b[39m#admin_key = os.getenv('AZURE_COGNITIVE_SEARCH_KEY')\u001b[39;00m\n\u001b[0;32m---> 10\u001b[0m search_client \u001b[39m=\u001b[39m SearchClient(endpoint\u001b[39m=\u001b[39;49mendpoint,\n\u001b[1;32m     11\u001b[0m                       index_name\u001b[39m=\u001b[39;49m\u001b[39m\"\u001b[39;49m\u001b[39mazureblob-index\u001b[39;49m\u001b[39m\"\u001b[39;49m ,\n\u001b[1;32m     12\u001b[0m                       api_version\u001b[39m=\u001b[39;49m\u001b[39m\"\u001b[39;49m\u001b[39m2021-04-30-Preview\u001b[39;49m\u001b[39m\"\u001b[39;49m,\n\u001b[1;32m     13\u001b[0m                       credential\u001b[39m=\u001b[39;49mAzureKeyCredential(admin_key))\n\u001b[1;32m     16\u001b[0m \u001b[39m#Extracting relevant article based on the query. eg: Clinton Democratic Nomination\u001b[39;00m\n\u001b[1;32m     17\u001b[0m results \u001b[39m=\u001b[39m search_client\u001b[39m.\u001b[39msearch(search_text\u001b[39m=\u001b[39m\u001b[39m\"\u001b[39m\u001b[39mCurrent polls and news articles on 2020 election.\u001b[39m\u001b[39m\"\u001b[39m, top\u001b[39m=\u001b[39m\u001b[39m3\u001b[39m, include_total_count\u001b[39m=\u001b[39m\u001b[39mTrue\u001b[39;00m)\n",
      "File \u001b[0;32m~/miniconda3/envs/oai/lib/python3.10/site-packages/azure/search/documents/_search_client.py:92\u001b[0m, in \u001b[0;36mSearchClient.__init__\u001b[0;34m(self, endpoint, index_name, credential, **kwargs)\u001b[0m\n\u001b[1;32m     90\u001b[0m \u001b[39mif\u001b[39;00m \u001b[39misinstance\u001b[39m(credential, AzureKeyCredential):\n\u001b[1;32m     91\u001b[0m     \u001b[39mself\u001b[39m\u001b[39m.\u001b[39m_aad \u001b[39m=\u001b[39m \u001b[39mFalse\u001b[39;00m\n\u001b[0;32m---> 92\u001b[0m     \u001b[39mself\u001b[39m\u001b[39m.\u001b[39m_client \u001b[39m=\u001b[39m SearchIndexClient(\n\u001b[1;32m     93\u001b[0m         endpoint\u001b[39m=\u001b[39;49mendpoint,\n\u001b[1;32m     94\u001b[0m         index_name\u001b[39m=\u001b[39;49mindex_name,\n\u001b[1;32m     95\u001b[0m         sdk_moniker\u001b[39m=\u001b[39;49mSDK_MONIKER,\n\u001b[1;32m     96\u001b[0m         api_version\u001b[39m=\u001b[39;49m\u001b[39mself\u001b[39;49m\u001b[39m.\u001b[39;49m_api_version,\n\u001b[1;32m     97\u001b[0m         \u001b[39m*\u001b[39;49m\u001b[39m*\u001b[39;49mkwargs\n\u001b[1;32m     98\u001b[0m     )  \u001b[39m# type: SearchIndexClient\u001b[39;00m\n\u001b[1;32m     99\u001b[0m \u001b[39melse\u001b[39;00m:\n\u001b[1;32m    100\u001b[0m     \u001b[39mself\u001b[39m\u001b[39m.\u001b[39m_aad \u001b[39m=\u001b[39m \u001b[39mTrue\u001b[39;00m\n",
      "File \u001b[0;32m~/miniconda3/envs/oai/lib/python3.10/site-packages/azure/search/documents/_generated/_search_client.py:44\u001b[0m, in \u001b[0;36mSearchClient.__init__\u001b[0;34m(self, endpoint, index_name, **kwargs)\u001b[0m\n\u001b[1;32m     36\u001b[0m \u001b[39mdef\u001b[39;00m \u001b[39m__init__\u001b[39m(\n\u001b[1;32m     37\u001b[0m     \u001b[39mself\u001b[39m,\n\u001b[1;32m     38\u001b[0m     endpoint,  \u001b[39m# type: str\u001b[39;00m\n\u001b[0;32m   (...)\u001b[0m\n\u001b[1;32m     41\u001b[0m ):\n\u001b[1;32m     42\u001b[0m     \u001b[39m# type: (...) -> None\u001b[39;00m\n\u001b[1;32m     43\u001b[0m     base_url \u001b[39m=\u001b[39m \u001b[39m'\u001b[39m\u001b[39m{endpoint}\u001b[39;00m\u001b[39m/indexes(\u001b[39m\u001b[39m\\'\u001b[39;00m\u001b[39m{indexName}\u001b[39;00m\u001b[39m\\'\u001b[39;00m\u001b[39m)\u001b[39m\u001b[39m'\u001b[39m\n\u001b[0;32m---> 44\u001b[0m     \u001b[39mself\u001b[39m\u001b[39m.\u001b[39m_config \u001b[39m=\u001b[39m SearchClientConfiguration(endpoint, index_name, \u001b[39m*\u001b[39;49m\u001b[39m*\u001b[39;49mkwargs)\n\u001b[1;32m     45\u001b[0m     \u001b[39mself\u001b[39m\u001b[39m.\u001b[39m_client \u001b[39m=\u001b[39m PipelineClient(base_url\u001b[39m=\u001b[39mbase_url, config\u001b[39m=\u001b[39m\u001b[39mself\u001b[39m\u001b[39m.\u001b[39m_config, \u001b[39m*\u001b[39m\u001b[39m*\u001b[39mkwargs)\n\u001b[1;32m     47\u001b[0m     client_models \u001b[39m=\u001b[39m {k: v \u001b[39mfor\u001b[39;00m k, v \u001b[39min\u001b[39;00m models\u001b[39m.\u001b[39m\u001b[39m__dict__\u001b[39m\u001b[39m.\u001b[39mitems() \u001b[39mif\u001b[39;00m \u001b[39misinstance\u001b[39m(v, \u001b[39mtype\u001b[39m)}\n",
      "File \u001b[0;32m~/miniconda3/envs/oai/lib/python3.10/site-packages/azure/search/documents/_generated/_configuration.py:40\u001b[0m, in \u001b[0;36mSearchClientConfiguration.__init__\u001b[0;34m(self, endpoint, index_name, **kwargs)\u001b[0m\n\u001b[1;32m     32\u001b[0m \u001b[39mdef\u001b[39;00m \u001b[39m__init__\u001b[39m(\n\u001b[1;32m     33\u001b[0m     \u001b[39mself\u001b[39m,\n\u001b[1;32m     34\u001b[0m     endpoint,  \u001b[39m# type: str\u001b[39;00m\n\u001b[0;32m   (...)\u001b[0m\n\u001b[1;32m     37\u001b[0m ):\n\u001b[1;32m     38\u001b[0m     \u001b[39m# type: (...) -> None\u001b[39;00m\n\u001b[1;32m     39\u001b[0m     \u001b[39mif\u001b[39;00m endpoint \u001b[39mis\u001b[39;00m \u001b[39mNone\u001b[39;00m:\n\u001b[0;32m---> 40\u001b[0m         \u001b[39mraise\u001b[39;00m \u001b[39mValueError\u001b[39;00m(\u001b[39m\"\u001b[39m\u001b[39mParameter \u001b[39m\u001b[39m'\u001b[39m\u001b[39mendpoint\u001b[39m\u001b[39m'\u001b[39m\u001b[39m must not be None.\u001b[39m\u001b[39m\"\u001b[39m)\n\u001b[1;32m     41\u001b[0m     \u001b[39mif\u001b[39;00m index_name \u001b[39mis\u001b[39;00m \u001b[39mNone\u001b[39;00m:\n\u001b[1;32m     42\u001b[0m         \u001b[39mraise\u001b[39;00m \u001b[39mValueError\u001b[39;00m(\u001b[39m\"\u001b[39m\u001b[39mParameter \u001b[39m\u001b[39m'\u001b[39m\u001b[39mindex_name\u001b[39m\u001b[39m'\u001b[39m\u001b[39m must not be None.\u001b[39m\u001b[39m\"\u001b[39m)\n",
      "\u001b[0;31mValueError\u001b[0m: Parameter 'endpoint' must not be None."
     ]
    }
   ],
   "source": [
    "# Azure Cognitive Search\n",
    "# Create an SDK client\n",
    "# endpoint = os.getenv(\"OPENAI_API_ENDPOINT\")\n",
    "from azure.core.credentials import AzureKeyCredential\n",
    "from azure.search.documents import SearchClient\n",
    "\n",
    "endpoint = os.getenv('AZURE_COGNITIVE_SEARCH_ENDPOINT')\n",
    "admin_key = os.getenv('azure_search_key')\n",
    "#admin_key = os.getenv('AZURE_COGNITIVE_SEARCH_KEY')\n",
    "search_client = SearchClient(endpoint=endpoint,\n",
    "                      index_name=\"azureblob-index\" ,\n",
    "                      api_version=\"2021-04-30-Preview\",\n",
    "                      credential=AzureKeyCredential(admin_key))\n",
    "\n",
    "\n",
    "#Extracting relevant article based on the query. eg: Clinton Democratic Nomination\n",
    "results = search_client.search(search_text=\"Current polls and news articles on 2020 election.\", top=3, include_total_count=True)\n",
    "\n",
    "output = [r['article'] for r in results]\n",
    "intermediate_output = \" \".join(output)"
   ]
  },
  {
   "attachments": {},
   "cell_type": "markdown",
   "metadata": {},
   "source": [
    "### Collected information for further processing"
   ]
  },
  {
   "cell_type": "code",
   "execution_count": null,
   "metadata": {},
   "outputs": [],
   "source": [
    "intermediate_output"
   ]
  },
  {
   "cell_type": "code",
   "execution_count": null,
   "metadata": {},
   "outputs": [],
   "source": [
    "prompt=f'''Answer the following questions as best you can. You have access to the following tools:\n",
    "\n",
    "Research: \n",
    "\n",
    "Use the following format:\n",
    "\n",
    "Question: the input question you must answer\n",
    "Thought: you should always think about what to do\n",
    "nAction: the action to take, should be one of [Research]\n",
    "Action Input: the input to the action\n",
    "Observation: the result of the action\n",
    "... (this Thought/Action/Action Input/Observation can repeat N times)\n",
    "Thought: I now know the final answer\n",
    "Final Answer: the final answer to the original input question\n",
    "\n",
    "Begin!\n",
    "\n",
    "Question: {input}\n",
    "Thought: {intermediate_output}\n",
    "Thought:'''"
   ]
  },
  {
   "attachments": {},
   "cell_type": "markdown",
   "metadata": {},
   "source": [
    "### Step 3: GPT3: What do I need to do to answer this question? (Again)"
   ]
  },
  {
   "cell_type": "code",
   "execution_count": null,
   "metadata": {},
   "outputs": [],
   "source": [
    "response = openai.Completion.create(\n",
    "    prompt=prompt,\n",
    "    temperature=0,\n",
    "    max_tokens=250,\n",
    "    top_p=1,\n",
    "    frequency_penalty=0,\n",
    "    presence_penalty=0,\n",
    "    engine=os.getenv('DEPLOYMENT_NAME')\n",
    ")[\"choices\"][0][\"text\"]\n",
    "print(response)"
   ]
  },
  {
   "attachments": {},
   "cell_type": "markdown",
   "metadata": {},
   "source": [
    "### GPT3: I now have final answer to the question. "
   ]
  },
  {
   "cell_type": "code",
   "execution_count": null,
   "metadata": {},
   "outputs": [],
   "source": []
  }
 ],
 "metadata": {
  "kernelspec": {
   "display_name": "azureml_py310_sdkv2",
   "language": "python",
   "name": "python3"
  },
  "language_info": {
   "codemirror_mode": {
    "name": "ipython",
    "version": 3
   },
   "file_extension": ".py",
   "mimetype": "text/x-python",
   "name": "python",
   "nbconvert_exporter": "python",
   "pygments_lexer": "ipython3",
   "version": "3.10.10"
  },
  "orig_nbformat": 4
 },
 "nbformat": 4,
 "nbformat_minor": 2
}
